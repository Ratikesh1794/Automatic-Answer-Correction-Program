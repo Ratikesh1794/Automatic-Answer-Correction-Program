{
 "cells": [
  {
   "cell_type": "code",
   "execution_count": 7,
   "metadata": {},
   "outputs": [],
   "source": [
    "import pandas as pd\n",
    "import numpy as np"
   ]
  },
  {
   "cell_type": "code",
   "execution_count": 11,
   "metadata": {},
   "outputs": [],
   "source": [
    "# read in answer sheet and answer key csv files\n",
    "answer_sheet = pd.read_csv('answersheet.csv')\n",
    "answer_key = pd.read_csv('answerkey.csv')"
   ]
  },
  {
   "cell_type": "code",
   "execution_count": 12,
   "metadata": {},
   "outputs": [],
   "source": [
    "# merge answer sheet and answer key dataframes on question number\n",
    "merged_df = pd.merge(answer_sheet, answer_key, on='Q.no')"
   ]
  },
  {
   "cell_type": "code",
   "execution_count": 13,
   "metadata": {},
   "outputs": [],
   "source": [
    "# create new column indicating whether answer is correct\n",
    "merged_df['Correct'] = merged_df['Answer'] == merged_df['Correct Answer']"
   ]
  },
  {
   "cell_type": "code",
   "execution_count": 15,
   "metadata": {},
   "outputs": [],
   "source": [
    "# calculate total number of correct answers and total number of questions\n",
    "num_correct = merged_df['Correct'].sum()\n",
    "num_questions = merged_df['Q.no'].max()"
   ]
  },
  {
   "cell_type": "code",
   "execution_count": 16,
   "metadata": {},
   "outputs": [],
   "source": [
    "# calculate score in marks and percentage\n",
    "mark_per_question = 1\n",
    "score = num_correct * mark_per_question\n",
    "percentage = round((num_correct / num_questions) * 100, 2)"
   ]
  },
  {
   "cell_type": "code",
   "execution_count": 17,
   "metadata": {},
   "outputs": [
    {
     "name": "stdout",
     "output_type": "stream",
     "text": [
      "Score: 11 marks\n",
      "Percentage: 55.0%\n"
     ]
    }
   ],
   "source": [
    "# print out final score and percentage\n",
    "print(f'Score: {score} marks')\n",
    "print(f'Percentage: {percentage}%')"
   ]
  }
 ],
 "metadata": {
  "kernelspec": {
   "display_name": "Python 3",
   "language": "python",
   "name": "python3"
  },
  "language_info": {
   "codemirror_mode": {
    "name": "ipython",
    "version": 3
   },
   "file_extension": ".py",
   "mimetype": "text/x-python",
   "name": "python",
   "nbconvert_exporter": "python",
   "pygments_lexer": "ipython3",
   "version": "3.11.1"
  },
  "orig_nbformat": 4,
  "vscode": {
   "interpreter": {
    "hash": "0892d9bba5267d93c9146d905a72ac9a314b7bc62bcd2aced9146a870fb4d0e6"
   }
  }
 },
 "nbformat": 4,
 "nbformat_minor": 2
}
