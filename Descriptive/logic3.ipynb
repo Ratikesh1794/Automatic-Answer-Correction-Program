{
 "cells": [
  {
   "cell_type": "code",
   "execution_count": 33,
   "metadata": {},
   "outputs": [],
   "source": [
    "import nltk\n",
    "from nltk.corpus import stopwords\n",
    "from sklearn.feature_extraction.text import TfidfVectorizer\n",
    "from sklearn.metrics.pairwise import cosine_similarity\n"
   ]
  },
  {
   "attachments": {},
   "cell_type": "markdown",
   "metadata": {},
   "source": [
    "Preprocess the answers by removing stopwords, punctuation marks, and converting them to lowercase"
   ]
  },
  {
   "cell_type": "code",
   "execution_count": 34,
   "metadata": {},
   "outputs": [],
   "source": [
    "def preprocess(answer):\n",
    "    answer = answer.lower()\n",
    "    answer = nltk.word_tokenize(answer)\n",
    "    answer = [word for word in answer if word not in stopwords.words('english')]\n",
    "    answer = [word for word in answer if word.isalnum()]\n",
    "    answer = \" \".join(answer)\n",
    "    return answer\n"
   ]
  },
  {
   "attachments": {},
   "cell_type": "markdown",
   "metadata": {},
   "source": [
    "Import answers"
   ]
  },
  {
   "cell_type": "code",
   "execution_count": 35,
   "metadata": {},
   "outputs": [],
   "source": [
    "answer1 = \"Photosynthesis is the biological process by which plants, algae, and some bacteria convert light energy from the sun into chemical energy in the form of glucose or other organic compounds. This process typically involves the absorption of light by pigments, such as chlorophyll, which are found in specialized organelles called chloroplasts.\"\n",
    "answer2 = \"The biological process through which plants, algae, and certain microorganisms transform solar light energy into chemical energy in the form of glucose or other organic molecules is known as photosynthesis. Light is normally absorbed by pigments such as chlorophyll, which are located in specialized organelles known as chloroplasts.\""
   ]
  },
  {
   "attachments": {},
   "cell_type": "markdown",
   "metadata": {},
   "source": [
    "Preprocess the answers:"
   ]
  },
  {
   "cell_type": "code",
   "execution_count": 36,
   "metadata": {},
   "outputs": [],
   "source": [
    "preprocessed_answer1 = preprocess(answer1)\n",
    "preprocessed_answer2 = preprocess(answer2)"
   ]
  },
  {
   "attachments": {},
   "cell_type": "markdown",
   "metadata": {},
   "source": [
    "Calculate the similarity between the two preprocessed answers using the cosine similarity algorithm:"
   ]
  },
  {
   "cell_type": "code",
   "execution_count": 37,
   "metadata": {},
   "outputs": [],
   "source": [
    "vectorizer = TfidfVectorizer()\n",
    "vectors = vectorizer.fit_transform([preprocessed_answer1, preprocessed_answer2])\n",
    "similarity = cosine_similarity(vectors[0], vectors[1])\n"
   ]
  },
  {
   "attachments": {},
   "cell_type": "markdown",
   "metadata": {},
   "source": [
    "Print the similarity score:"
   ]
  },
  {
   "cell_type": "code",
   "execution_count": 38,
   "metadata": {},
   "outputs": [
    {
     "name": "stdout",
     "output_type": "stream",
     "text": [
      "The similarity between the two answers is: 0.5201643833261501\n"
     ]
    }
   ],
   "source": [
    "print(\"The similarity between the two answers is:\", similarity[0][0])\n"
   ]
  }
 ],
 "metadata": {
  "kernelspec": {
   "display_name": "Python 3",
   "language": "python",
   "name": "python3"
  },
  "language_info": {
   "codemirror_mode": {
    "name": "ipython",
    "version": 3
   },
   "file_extension": ".py",
   "mimetype": "text/x-python",
   "name": "python",
   "nbconvert_exporter": "python",
   "pygments_lexer": "ipython3",
   "version": "3.11.1"
  },
  "orig_nbformat": 4,
  "vscode": {
   "interpreter": {
    "hash": "0892d9bba5267d93c9146d905a72ac9a314b7bc62bcd2aced9146a870fb4d0e6"
   }
  }
 },
 "nbformat": 4,
 "nbformat_minor": 2
}
