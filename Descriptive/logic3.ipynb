{
 "cells": [
  {
   "cell_type": "code",
   "execution_count": null,
   "metadata": {},
   "outputs": [],
   "source": [
    "import pandas as pd\n",
    "import nltk\n",
    "from nltk.tokenize import word_tokenize\n",
    "from nltk.corpus import stopwords\n"
   ]
  },
  {
   "cell_type": "code",
   "execution_count": null,
   "metadata": {},
   "outputs": [],
   "source": [
    "def correct_answers(student_answers, correct_answers):\n",
    "    # data manipulation and cleaning\n",
    "    student_answers = student_answers.dropna()\n",
    "    correct_answers = correct_answers.dropna()\n",
    "    \n",
    "    # tokenize student and correct answers\n",
    "    student_tokens = [word_tokenize(i) for i in student_answers]\n",
    "    correct_tokens = [word_tokenize(i) for i in correct_answers]\n",
    "    \n",
    "    # remove stopwords from student and correct tokens\n",
    "    stop_words = set(stopwords.words(\"english\"))\n",
    "    student_tokens = [[i for i in sublist if i.lower() not in stop_words] for sublist in student_tokens]\n",
    "    correct_tokens = [[i for i in sublist if i.lower() not in stop_words] for sublist in correct_tokens]\n"
   ]
  },
  {
   "cell_type": "code",
   "execution_count": null,
   "metadata": {},
   "outputs": [],
   "source": [
    "    # create list to store similarity scores\n",
    "    scores = []\n",
    "    \n",
    "    # loop through student and correct answers\n",
    "    for i in range(len(student_tokens)):\n",
    "        student_vec = nltk.text.Text(student_tokens[i])\n",
    "        correct_vec = nltk.text.Text(correct_tokens[i])\n",
    "        similarity = nltk.text.similarity.cosine_similarity(student_vec, correct_vec)\n",
    "        scores.append(similarity)\n"
   ]
  },
  {
   "cell_type": "code",
   "execution_count": null,
   "metadata": {},
   "outputs": [],
   "source": [
    "    student_answers[\"Similarity Score\"] = scores\n",
    "    return student_answers\n"
   ]
  },
  {
   "cell_type": "code",
   "execution_count": null,
   "metadata": {},
   "outputs": [],
   "source": [
    "corrected_answers = correct_answers(student_answers_df, correct_answers_df)\n"
   ]
  },
  {
   "cell_type": "code",
   "execution_count": null,
   "metadata": {},
   "outputs": [],
   "source": []
  }
 ],
 "metadata": {
  "kernelspec": {
   "display_name": "Python 3",
   "language": "python",
   "name": "python3"
  },
  "language_info": {
   "name": "python",
   "version": "3.11.1"
  },
  "orig_nbformat": 4,
  "vscode": {
   "interpreter": {
    "hash": "0892d9bba5267d93c9146d905a72ac9a314b7bc62bcd2aced9146a870fb4d0e6"
   }
  }
 },
 "nbformat": 4,
 "nbformat_minor": 2
}
